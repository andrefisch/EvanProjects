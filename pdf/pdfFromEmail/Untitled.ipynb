{
 "cells": [
  {
   "cell_type": "code",
   "execution_count": 2,
   "metadata": {
    "collapsed": false
   },
   "outputs": [],
   "source": [
    "from PyPDF2 import PdfFileReader"
   ]
  },
  {
   "cell_type": "code",
   "execution_count": 6,
   "metadata": {
    "collapsed": false
   },
   "outputs": [
    {
     "name": "stdout",
     "output_type": "stream",
     "text": [
      "[' ', ' ', ' ', ' ', ' ', ' ', ' ', ' ', '     ', ' ', '             ', 'Contents                                  Page', ' ', ' ', '', '', 'Bunker / Commodity', ' ', '& Currency prices', ' ', ' ', ' ', ' ', ' ', '3', ' ', '', '', 'Dry Bulk', ' ', ' ', ' ', ' ', ' ', ' ', ' ', ' ', '4', ' ', '', '', 'Cpp/Dpp & Crude', ' ', ' ', ' ', ' ', ' ', '6', ' ', '', '', 'Sale & Purchase', ' ', ' ', ' ', ' ', ' ', ' ', '8', ' ', '', '', 'FFAs + Contacts', ' ', ' ', '                       ', '9', ' ', ' ', ' ', 'Week 18', ' ', ' ', ' ', '© 2018, Alibra Shipping Limited  ', ' ', ' ', 'Private & Confidential', ' ', '', ' ', '04th May 2018', ' ', '']\n"
     ]
    }
   ],
   "source": [
    "with open('report.pdf', 'rb') as f:\n",
    "    reader = PdfFileReader(f)\n",
    "    contents = reader.getPage(0).extractText().split('\\n')\n",
    "    print (contents)\n",
    "    pass"
   ]
  },
  {
   "cell_type": "code",
   "execution_count": null,
   "metadata": {
    "collapsed": true
   },
   "outputs": [],
   "source": []
  }
 ],
 "metadata": {
  "kernelspec": {
   "display_name": "Python 3",
   "language": "python",
   "name": "python3"
  },
  "language_info": {
   "codemirror_mode": {
    "name": "ipython",
    "version": 3
   },
   "file_extension": ".py",
   "mimetype": "text/x-python",
   "name": "python",
   "nbconvert_exporter": "python",
   "pygments_lexer": "ipython3",
   "version": "3.5.2"
  }
 },
 "nbformat": 4,
 "nbformat_minor": 2
}
